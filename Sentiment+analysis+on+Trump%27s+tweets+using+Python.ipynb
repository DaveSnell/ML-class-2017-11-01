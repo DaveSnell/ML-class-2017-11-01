{
 "cells": [
  {
   "cell_type": "markdown",
   "metadata": {},
   "source": [
    "## Sentiment analysis on Trump's tweets using Python 🐍\n",
    " rodolfoferro profile image Rodolfo Ferro   Sep 12, 2017 Updated on Sep 13, 2017\n",
    " (some modifications by Dave for Maryville ML class)\n",
    "\n",
    "DESCRIPTION:\n",
    "In this article we will extract twitter data using tweepy and learn how to handle it using pandas.\n",
    "Do some basic statistics and visualizations with numpy, matplotlib and seaborn.\n",
    "Do sentiment analysis of extracted (Trump's) tweets using textblob."
   ]
  },
  {
   "cell_type": "markdown",
   "metadata": {},
   "source": [
    "The requirements that we'll need to install are:\n",
    "\n",
    "NumPy: This is the fundamental package for scientific computing with Python. Besides its obvious scientific uses, NumPy can also be used as an efficient multi-dimensional container of generic data.\n",
    "\n",
    "Pandas: This is an open source library providing high-performance, easy-to-use data structures and data analysis tools.\n",
    "\n",
    "Tweepy: This is an easy-to-use Python library for accessing the Twitter API.\n",
    "\n",
    "Matplotlib: This is a Python 2D plotting library which produces publication quality figures in a variety of hardcopy formats and interactive environments across platforms.\n",
    "\n",
    "Seaborn: This is a Python visualization library based on matplotlib. It provides a high-level interface for drawing attractive statistical graphics.\n",
    "\n",
    "Textblob: This is a Python library for processing textual data. It provides a simple API for diving into common natural language processing (NLP) tasks.\n",
    "\n",
    "All of them are \"pip installable\". \n",
    "\n",
    "In addition to the add-ins you already have in your virtual machine, you will need to pip install tweepy, credentials, and textblob.\n",
    "\n",
    "A very important prerequisite is the establishment of a Twitter account. See the accompanying Word document for the logistics; or watch the video referred to below\n",
    "\n",
    "\n",
    ". -Dave"
   ]
  },
  {
   "cell_type": "markdown",
   "metadata": {},
   "source": [
    "Now that we have all the requirements, let's get started!\n",
    "\n",
    "1. Extracting twitter data (tweepy + pandas)\n",
    "\n",
    "1.1. Importing our libraries\n",
    "\n",
    "This will be the most difficult part of all the post... 😥"
   ]
  },
  {
   "cell_type": "code",
   "execution_count": 1,
   "metadata": {
    "collapsed": true
   },
   "outputs": [],
   "source": [
    "# General:\n",
    "import tweepy           # To consume Twitter's API\n",
    "import pandas as pd     # To handle data\n",
    "import numpy as np      # For number computing\n",
    "\n",
    "# For plotting and visualization:\n",
    "from IPython.display import display\n",
    "import matplotlib.pyplot as plt\n",
    "import seaborn as sns\n",
    "%matplotlib inline"
   ]
  },
  {
   "cell_type": "markdown",
   "metadata": {},
   "source": [
    "The following cell lines are just to read your personal Twitter parameters from a file instead of hardcoding them into your program. A still better approach would be to encrypt them in the file and decrypt them in the program. Note that readline automatically appends a newline charater, so we strip it off with the .strip('\\n') function.\n"
   ]
  },
  {
   "cell_type": "code",
   "execution_count": 2,
   "metadata": {
    "collapsed": true
   },
   "outputs": [],
   "source": [
    "meFilename = 'me.txt'\n",
    "meFile = open(meFilename,'r') # add a pathname if needed\n",
    "consumer_key = str(meFile.readline()).strip('\\n')\n",
    "consumer_secret = meFile.readline().strip('\\n')\n",
    "access_token = meFile.readline().strip('\\n')\n",
    "access_token_secret = meFile.readline().strip('\\n')\n",
    "meFile.close()"
   ]
  },
  {
   "cell_type": "markdown",
   "metadata": {},
   "source": [
    "Excellent! We can now just run this cell of code and go to the next subsection.\n",
    "\n",
    "## 1.2. Creating a Twitter App\n",
    "\n",
    "In order to extract tweets for a posterior analysis, we need to access to our Twitter account and create an app. The website to do this is https://apps.twitter.com/. (If you don't know how to do this, you can follow this tutorial video to create an account and an application.)\n",
    "\n",
    "From this app that we're creating we will save the following information in a script called credentials.py:\n",
    "\n",
    "Consumer Key (API Key)\n",
    "Consumer Secret (API Secret)\n",
    "Access Token\n",
    "Access Token Secret\n",
    "An example of this script is the following:"
   ]
  },
  {
   "cell_type": "code",
   "execution_count": 3,
   "metadata": {},
   "outputs": [],
   "source": [
    "# We import our access keys:\n",
    "from credentials import *    # This will allow us to use the keys as variables\n",
    "\n",
    "# API's setup:\n",
    "def twitter_setup():\n",
    "    \"\"\"\n",
    "    Utility function to setup the Twitter's API\n",
    "    with our access keys provided.\n",
    "    \"\"\"\n",
    "    # Authentication and access using keys:\n",
    "    auth = tweepy.OAuthHandler(consumer_key, consumer_secret)\n",
    "    auth.set_access_token(access_token, access_token_secret)\n",
    "\n",
    "    # Return API with authentication:\n",
    "    api = tweepy.API(auth)\n",
    "    return api"
   ]
  },
  {
   "cell_type": "markdown",
   "metadata": {},
   "source": [
    "The reason for creating this extra file is that we want to export only the value of this variables, but being unseen in our main code (our notebook). We are now able to consume Twitter's API. In order to do this, we will create a function to allow us our keys authentication. We will add this function in another cell of code and we will run it:"
   ]
  },
  {
   "cell_type": "markdown",
   "metadata": {},
   "source": [
    "So far, so easy right? We're good to extract tweets in the next section.\n",
    "\n",
    "## 1.3. Tweets extraction\n",
    "\n",
    "Now that we've created a function to setup the Twitter API, we can use this function to create an \"extractor\" object. After this, we will use Tweepy's function extractor.user_timeline(screen_name, count) to extract from screen_name's user the quantity of count tweets.\n",
    "\n",
    "As it is mentioned in the title, I've chosen @realDonaldTrump as the user to extract data for a posterior analysis. Yeah, we wanna keep it interesting, LOL.\n",
    "\n",
    "The way to extract Twitter's data is as follows:"
   ]
  },
  {
   "cell_type": "code",
   "execution_count": 4,
   "metadata": {},
   "outputs": [
    {
     "name": "stdout",
     "output_type": "stream",
     "text": [
      "Number of tweets extracted: 200.\n",
      "\n",
      "5 recent tweets:\n",
      "\n",
      "We mourn the horrifying terrorist attack in NYC. All of America is praying and grieving for the families who lost t… https://t.co/gnCvusZ0Ud\n",
      "\n",
      "....for the Middle Class. The House and Senate should consider ASAP as the process of final approval moves along. Push Biggest Tax Cuts EVER\n",
      "\n",
      "Wouldn't it be great to Repeal the very unfair and unpopular Individual Mandate in ObamaCare and use those savings for further Tax Cuts.....\n",
      "\n",
      "#NYCStrong #USA🇺🇸 https://t.co/6K3Xw5P87d\n",
      "\n",
      "\"Senator Chuck Schumer helping to import Europes problems\" said Col.Tony Shaffer. We will stop this craziness!  @foxandfriends\n",
      "\n"
     ]
    }
   ],
   "source": [
    "# We create an extractor object:\n",
    "extractor = twitter_setup()\n",
    "\n",
    "# We create a tweet list as follows:\n",
    "tweets = extractor.user_timeline(screen_name=\"realDonaldTrump\", count=200)\n",
    "print(\"Number of tweets extracted: {}.\\n\".format(len(tweets)))\n",
    "\n",
    "# We print the most recent 5 tweets:\n",
    "print(\"5 recent tweets:\\n\")\n",
    "for tweet in tweets[:5]:\n",
    "    print(tweet.text)\n",
    "    print()"
   ]
  },
  {
   "cell_type": "markdown",
   "metadata": {},
   "source": [
    "With this we will have an output similar to this one, and we are able to compare the output with the Twitter account (to check if we're being consistent):\n",
    "\n",
    "Number of tweets extracted: 200.\n",
    "\n",
    "5 recent tweets:\n",
    "\n",
    "On behalf of @FLOTUS Melania & myself, THANK YOU for today's update & GREAT WORK! #SouthernBaptist @SendRelief,… https://t.co/4yZCeXCt6n\n",
    "\n",
    "I will be going to Texas and Louisiana tomorrow with First Lady. Great progress being made! Spending weekend working at White House.\n",
    "\n",
    "Stock Market up 5 months in a row!\n",
    "\n",
    "'President Donald J. Trump Proclaims September 3, 2017, as a National Day of Prayer' #HurricaneHarvey #PrayForTexas… https://t.co/tOMfFWwEsN\n",
    "\n",
    "Texas is healing fast thanks to all of the great men & women who have been working so hard. But still so much to do. Will be back tomorrow!\n",
    "\n",
    "We now have an extractor and extracted data, which is listed in the tweets variable. I must mention at this point that each element in that list is a tweet object from Tweepy, and we will learn how to handle this data in the next subsection.\n",
    "\n",
    "## 1.4. Creating a (pandas) DataFrame\n",
    "\n",
    "We now have initial information to construct a pandas DataFrame, in order to manipulate the info in a very easy way.\n",
    "\n",
    "IPython's display function plots an output in a friendly way, and the headmethod of a dataframe allows us to visualize the first 5 elements of the dataframe (or the first number of elements that are passed as an argument).\n",
    "\n",
    "So, using Python's list comprehension:"
   ]
  },
  {
   "cell_type": "code",
   "execution_count": 5,
   "metadata": {
    "collapsed": true
   },
   "outputs": [],
   "source": [
    "# We create a pandas dataframe as follows:\n",
    "data = pd.DataFrame(data=[tweet.text for tweet in tweets], columns=['Tweets'])"
   ]
  },
  {
   "cell_type": "markdown",
   "metadata": {},
   "source": [
    "This will create an output similar to this:"
   ]
  },
  {
   "cell_type": "code",
   "execution_count": 6,
   "metadata": {},
   "outputs": [
    {
     "data": {
      "text/html": [
       "<div>\n",
       "<style>\n",
       "    .dataframe thead tr:only-child th {\n",
       "        text-align: right;\n",
       "    }\n",
       "\n",
       "    .dataframe thead th {\n",
       "        text-align: left;\n",
       "    }\n",
       "\n",
       "    .dataframe tbody tr th {\n",
       "        vertical-align: top;\n",
       "    }\n",
       "</style>\n",
       "<table border=\"1\" class=\"dataframe\">\n",
       "  <thead>\n",
       "    <tr style=\"text-align: right;\">\n",
       "      <th></th>\n",
       "      <th>Tweets</th>\n",
       "    </tr>\n",
       "  </thead>\n",
       "  <tbody>\n",
       "    <tr>\n",
       "      <th>0</th>\n",
       "      <td>We mourn the horrifying terrorist attack in NY...</td>\n",
       "    </tr>\n",
       "    <tr>\n",
       "      <th>1</th>\n",
       "      <td>....for the Middle Class. The House and Senate...</td>\n",
       "    </tr>\n",
       "    <tr>\n",
       "      <th>2</th>\n",
       "      <td>Wouldn't it be great to Repeal the very unfair...</td>\n",
       "    </tr>\n",
       "    <tr>\n",
       "      <th>3</th>\n",
       "      <td>#NYCStrong #USA🇺🇸 https://t.co/6K3Xw5P87d</td>\n",
       "    </tr>\n",
       "    <tr>\n",
       "      <th>4</th>\n",
       "      <td>\"Senator Chuck Schumer helping to import Europ...</td>\n",
       "    </tr>\n",
       "    <tr>\n",
       "      <th>5</th>\n",
       "      <td>We are fighting hard for Merit Based immigrati...</td>\n",
       "    </tr>\n",
       "    <tr>\n",
       "      <th>6</th>\n",
       "      <td>The terrorist came into our country through wh...</td>\n",
       "    </tr>\n",
       "    <tr>\n",
       "      <th>7</th>\n",
       "      <td>I have just ordered Homeland Security to step ...</td>\n",
       "    </tr>\n",
       "    <tr>\n",
       "      <th>8</th>\n",
       "      <td>The Republican House members are working hard ...</td>\n",
       "    </tr>\n",
       "    <tr>\n",
       "      <th>9</th>\n",
       "      <td>My thoughts, condolences and prayers to the vi...</td>\n",
       "    </tr>\n",
       "  </tbody>\n",
       "</table>\n",
       "</div>"
      ],
      "text/plain": [
       "                                              Tweets\n",
       "0  We mourn the horrifying terrorist attack in NY...\n",
       "1  ....for the Middle Class. The House and Senate...\n",
       "2  Wouldn't it be great to Repeal the very unfair...\n",
       "3          #NYCStrong #USA🇺🇸 https://t.co/6K3Xw5P87d\n",
       "4  \"Senator Chuck Schumer helping to import Europ...\n",
       "5  We are fighting hard for Merit Based immigrati...\n",
       "6  The terrorist came into our country through wh...\n",
       "7  I have just ordered Homeland Security to step ...\n",
       "8  The Republican House members are working hard ...\n",
       "9  My thoughts, condolences and prayers to the vi..."
      ]
     },
     "metadata": {},
     "output_type": "display_data"
    }
   ],
   "source": [
    "# We display the first 10 elements of the dataframe:\n",
    "display(data.head(10))"
   ]
  },
  {
   "cell_type": "markdown",
   "metadata": {},
   "source": [
    "So we now have a nice table with ordered data.\n",
    "\n",
    "An interesting thing is the number if internal methods that the tweetstructure has in Tweepy. This outputs the following list of elements:"
   ]
  },
  {
   "cell_type": "code",
   "execution_count": 7,
   "metadata": {},
   "outputs": [
    {
     "name": "stdout",
     "output_type": "stream",
     "text": [
      "['__class__', '__delattr__', '__dict__', '__dir__', '__doc__', '__eq__', '__format__', '__ge__', '__getattribute__', '__getstate__', '__gt__', '__hash__', '__init__', '__init_subclass__', '__le__', '__lt__', '__module__', '__ne__', '__new__', '__reduce__', '__reduce_ex__', '__repr__', '__setattr__', '__sizeof__', '__str__', '__subclasshook__', '__weakref__', '_api', '_json', 'author', 'contributors', 'coordinates', 'created_at', 'destroy', 'entities', 'favorite', 'favorite_count', 'favorited', 'geo', 'id', 'id_str', 'in_reply_to_screen_name', 'in_reply_to_status_id', 'in_reply_to_status_id_str', 'in_reply_to_user_id', 'in_reply_to_user_id_str', 'is_quote_status', 'lang', 'parse', 'parse_list', 'place', 'possibly_sensitive', 'retweet', 'retweet_count', 'retweeted', 'retweets', 'source', 'source_url', 'text', 'truncated', 'user']\n"
     ]
    }
   ],
   "source": [
    "# Internal methods of a single tweet object:\n",
    "print(dir(tweets[0]))"
   ]
  },
  {
   "cell_type": "markdown",
   "metadata": {},
   "source": [
    "The interesting part from here is the quantity of metadata contained in a single tweet. If we want to obtain data such as the creation date, or the source of creation, we can access the info with this attributes. An example is the following:"
   ]
  },
  {
   "cell_type": "code",
   "execution_count": 8,
   "metadata": {},
   "outputs": [
    {
     "name": "stdout",
     "output_type": "stream",
     "text": [
      "925806343855984647\n",
      "2017-11-01 19:26:47\n",
      "Media Studio\n",
      "11068\n",
      "2836\n",
      "None\n",
      "None\n",
      "{'hashtags': [], 'symbols': [], 'user_mentions': [], 'urls': [{'url': 'https://t.co/gnCvusZ0Ud', 'expanded_url': 'https://twitter.com/i/web/status/925806343855984647', 'display_url': 'twitter.com/i/web/status/9…', 'indices': [117, 140]}]}\n"
     ]
    }
   ],
   "source": [
    "# We print info from the first tweet:\n",
    "print(tweets[0].id)\n",
    "print(tweets[0].created_at)\n",
    "print(tweets[0].source)\n",
    "print(tweets[0].favorite_count)\n",
    "print(tweets[0].retweet_count)\n",
    "print(tweets[0].geo)\n",
    "print(tweets[0].coordinates)\n",
    "print(tweets[0].entities)"
   ]
  },
  {
   "cell_type": "markdown",
   "metadata": {},
   "source": [
    "We're now able to order the relevant data and add it to our dataframe.\n",
    "\n",
    "## 1.5. Adding relevant info to our dataframe\n",
    "\n",
    "As we can see, we can obtain a lot of data from a single tweet. But not all this data is always useful for specific stuff. In our case we well just add some data to our dataframe. For this we will use Pythons list comprehension and a new column will be added to the dataframe by just simply adding the name of the content between square brackets and assign the content. The code goes as...:"
   ]
  },
  {
   "cell_type": "code",
   "execution_count": 9,
   "metadata": {
    "collapsed": true
   },
   "outputs": [],
   "source": [
    "# We add relevant data:\n",
    "data['len']  = np.array([len(tweet.text) for tweet in tweets])\n",
    "data['ID']   = np.array([tweet.id for tweet in tweets])\n",
    "data['Date'] = np.array([tweet.created_at for tweet in tweets])\n",
    "data['Source'] = np.array([tweet.source for tweet in tweets])\n",
    "data['Likes']  = np.array([tweet.favorite_count for tweet in tweets])\n",
    "data['RTs']    = np.array([tweet.retweet_count for tweet in tweets])"
   ]
  },
  {
   "cell_type": "markdown",
   "metadata": {},
   "source": [
    "And to display again the dataframe to see the changes we just...:"
   ]
  },
  {
   "cell_type": "code",
   "execution_count": 10,
   "metadata": {},
   "outputs": [
    {
     "data": {
      "text/html": [
       "<div>\n",
       "<style>\n",
       "    .dataframe thead tr:only-child th {\n",
       "        text-align: right;\n",
       "    }\n",
       "\n",
       "    .dataframe thead th {\n",
       "        text-align: left;\n",
       "    }\n",
       "\n",
       "    .dataframe tbody tr th {\n",
       "        vertical-align: top;\n",
       "    }\n",
       "</style>\n",
       "<table border=\"1\" class=\"dataframe\">\n",
       "  <thead>\n",
       "    <tr style=\"text-align: right;\">\n",
       "      <th></th>\n",
       "      <th>Tweets</th>\n",
       "      <th>len</th>\n",
       "      <th>ID</th>\n",
       "      <th>Date</th>\n",
       "      <th>Source</th>\n",
       "      <th>Likes</th>\n",
       "      <th>RTs</th>\n",
       "    </tr>\n",
       "  </thead>\n",
       "  <tbody>\n",
       "    <tr>\n",
       "      <th>0</th>\n",
       "      <td>We mourn the horrifying terrorist attack in NY...</td>\n",
       "      <td>140</td>\n",
       "      <td>925806343855984647</td>\n",
       "      <td>2017-11-01 19:26:47</td>\n",
       "      <td>Media Studio</td>\n",
       "      <td>11068</td>\n",
       "      <td>2836</td>\n",
       "    </tr>\n",
       "    <tr>\n",
       "      <th>1</th>\n",
       "      <td>....for the Middle Class. The House and Senate...</td>\n",
       "      <td>140</td>\n",
       "      <td>925740081805217792</td>\n",
       "      <td>2017-11-01 15:03:29</td>\n",
       "      <td>Twitter for iPhone</td>\n",
       "      <td>34181</td>\n",
       "      <td>7528</td>\n",
       "    </tr>\n",
       "    <tr>\n",
       "      <th>2</th>\n",
       "      <td>Wouldn't it be great to Repeal the very unfair...</td>\n",
       "      <td>140</td>\n",
       "      <td>925739132579729420</td>\n",
       "      <td>2017-11-01 14:59:43</td>\n",
       "      <td>Twitter for iPhone</td>\n",
       "      <td>48534</td>\n",
       "      <td>10707</td>\n",
       "    </tr>\n",
       "    <tr>\n",
       "      <th>3</th>\n",
       "      <td>#NYCStrong #USA🇺🇸 https://t.co/6K3Xw5P87d</td>\n",
       "      <td>41</td>\n",
       "      <td>925716689064427520</td>\n",
       "      <td>2017-11-01 13:30:32</td>\n",
       "      <td>Twitter for iPad</td>\n",
       "      <td>26747</td>\n",
       "      <td>6449</td>\n",
       "    </tr>\n",
       "    <tr>\n",
       "      <th>4</th>\n",
       "      <td>\"Senator Chuck Schumer helping to import Europ...</td>\n",
       "      <td>126</td>\n",
       "      <td>925688931823300609</td>\n",
       "      <td>2017-11-01 11:40:14</td>\n",
       "      <td>Twitter for iPhone</td>\n",
       "      <td>55469</td>\n",
       "      <td>15817</td>\n",
       "    </tr>\n",
       "    <tr>\n",
       "      <th>5</th>\n",
       "      <td>We are fighting hard for Merit Based immigrati...</td>\n",
       "      <td>139</td>\n",
       "      <td>925686558304464897</td>\n",
       "      <td>2017-11-01 11:30:48</td>\n",
       "      <td>Twitter for iPhone</td>\n",
       "      <td>74328</td>\n",
       "      <td>19781</td>\n",
       "    </tr>\n",
       "    <tr>\n",
       "      <th>6</th>\n",
       "      <td>The terrorist came into our country through wh...</td>\n",
       "      <td>140</td>\n",
       "      <td>925684982307348480</td>\n",
       "      <td>2017-11-01 11:24:32</td>\n",
       "      <td>Twitter for iPhone</td>\n",
       "      <td>99148</td>\n",
       "      <td>29710</td>\n",
       "    </tr>\n",
       "    <tr>\n",
       "      <th>7</th>\n",
       "      <td>I have just ordered Homeland Security to step ...</td>\n",
       "      <td>138</td>\n",
       "      <td>925534445393928199</td>\n",
       "      <td>2017-11-01 01:26:22</td>\n",
       "      <td>Twitter for iPhone</td>\n",
       "      <td>129585</td>\n",
       "      <td>33833</td>\n",
       "    </tr>\n",
       "    <tr>\n",
       "      <th>8</th>\n",
       "      <td>The Republican House members are working hard ...</td>\n",
       "      <td>140</td>\n",
       "      <td>925533433597775873</td>\n",
       "      <td>2017-11-01 01:22:20</td>\n",
       "      <td>Twitter for iPhone</td>\n",
       "      <td>60441</td>\n",
       "      <td>12277</td>\n",
       "    </tr>\n",
       "    <tr>\n",
       "      <th>9</th>\n",
       "      <td>My thoughts, condolences and prayers to the vi...</td>\n",
       "      <td>138</td>\n",
       "      <td>925497025386500096</td>\n",
       "      <td>2017-10-31 22:57:40</td>\n",
       "      <td>Twitter for iPhone</td>\n",
       "      <td>104518</td>\n",
       "      <td>24968</td>\n",
       "    </tr>\n",
       "  </tbody>\n",
       "</table>\n",
       "</div>"
      ],
      "text/plain": [
       "                                              Tweets  len                  ID  \\\n",
       "0  We mourn the horrifying terrorist attack in NY...  140  925806343855984647   \n",
       "1  ....for the Middle Class. The House and Senate...  140  925740081805217792   \n",
       "2  Wouldn't it be great to Repeal the very unfair...  140  925739132579729420   \n",
       "3          #NYCStrong #USA🇺🇸 https://t.co/6K3Xw5P87d   41  925716689064427520   \n",
       "4  \"Senator Chuck Schumer helping to import Europ...  126  925688931823300609   \n",
       "5  We are fighting hard for Merit Based immigrati...  139  925686558304464897   \n",
       "6  The terrorist came into our country through wh...  140  925684982307348480   \n",
       "7  I have just ordered Homeland Security to step ...  138  925534445393928199   \n",
       "8  The Republican House members are working hard ...  140  925533433597775873   \n",
       "9  My thoughts, condolences and prayers to the vi...  138  925497025386500096   \n",
       "\n",
       "                 Date              Source   Likes    RTs  \n",
       "0 2017-11-01 19:26:47        Media Studio   11068   2836  \n",
       "1 2017-11-01 15:03:29  Twitter for iPhone   34181   7528  \n",
       "2 2017-11-01 14:59:43  Twitter for iPhone   48534  10707  \n",
       "3 2017-11-01 13:30:32    Twitter for iPad   26747   6449  \n",
       "4 2017-11-01 11:40:14  Twitter for iPhone   55469  15817  \n",
       "5 2017-11-01 11:30:48  Twitter for iPhone   74328  19781  \n",
       "6 2017-11-01 11:24:32  Twitter for iPhone   99148  29710  \n",
       "7 2017-11-01 01:26:22  Twitter for iPhone  129585  33833  \n",
       "8 2017-11-01 01:22:20  Twitter for iPhone   60441  12277  \n",
       "9 2017-10-31 22:57:40  Twitter for iPhone  104518  24968  "
      ]
     },
     "metadata": {},
     "output_type": "display_data"
    }
   ],
   "source": [
    "# Display of first 10 elements from dataframe:\n",
    "display(data.head(10))"
   ]
  },
  {
   "cell_type": "markdown",
   "metadata": {},
   "source": [
    "Now that we have extracted and have the data in a easy-to-handle ordered way, we're ready to do a bit more of manipulation to visualize some plots and gather some statistical data. The first part of the post is done.\n",
    "\n",
    "## 2. Visualization and basic statistics\n",
    "\n",
    "## 2.1. Averages and popularity\n",
    "\n",
    "We first want to calculate some basic statistical data, such as the mean of the length of characters of all tweets, the tweet with more likes and retweets, etc.\n",
    "\n",
    "From now, I'll just add some input code and the output right below the code.\n",
    "\n",
    "To obtain the mean, using numpy:"
   ]
  },
  {
   "cell_type": "code",
   "execution_count": 11,
   "metadata": {},
   "outputs": [
    {
     "name": "stdout",
     "output_type": "stream",
     "text": [
      "The lenght's average in tweets: 121.99\n"
     ]
    }
   ],
   "source": [
    "# We extract the mean of lengths:\n",
    "mean = np.mean(data['len'])\n",
    "\n",
    "print(\"The lenght's average in tweets: {}\".format(mean))"
   ]
  },
  {
   "cell_type": "markdown",
   "metadata": {},
   "source": [
    "To extract more data, we will use some pandas' functionalities:"
   ]
  },
  {
   "cell_type": "code",
   "execution_count": 12,
   "metadata": {},
   "outputs": [
    {
     "name": "stdout",
     "output_type": "stream",
     "text": [
      "The tweet with more likes is: \n",
      "Subject to the receipt of further information, I will be allowing, as President, the long blocked and classified JFK FILES to be opened.\n",
      "Number of likes: 213845\n",
      "136 characters.\n",
      "\n",
      "The tweet with more retweets is: \n",
      "Subject to the receipt of further information, I will be allowing, as President, the long blocked and classified JFK FILES to be opened.\n",
      "Number of retweets: 70961\n",
      "136 characters.\n",
      "\n"
     ]
    }
   ],
   "source": [
    "# We extract the tweet with more FAVs and more RTs:\n",
    "\n",
    "fav_max = np.max(data['Likes'])\n",
    "rt_max  = np.max(data['RTs'])\n",
    "\n",
    "fav = data[data.Likes == fav_max].index[0]\n",
    "rt  = data[data.RTs == rt_max].index[0]\n",
    "\n",
    "# Max FAVs:\n",
    "print(\"The tweet with more likes is: \\n{}\".format(data['Tweets'][fav]))\n",
    "print(\"Number of likes: {}\".format(fav_max))\n",
    "print(\"{} characters.\\n\".format(data['len'][fav]))\n",
    "\n",
    "# Max RTs:\n",
    "print(\"The tweet with more retweets is: \\n{}\".format(data['Tweets'][rt]))\n",
    "print(\"Number of retweets: {}\".format(rt_max))\n",
    "print(\"{} characters.\\n\".format(data['len'][rt]))"
   ]
  },
  {
   "cell_type": "markdown",
   "metadata": {},
   "source": [
    "The tweet with more likes is: \n",
    "The United States condemns the terror attack in Barcelona, Spain, and will do whatever is necessary to help. Be tough & strong, we love you!\n",
    "Number of likes: 222205\n",
    "144 characters.\n",
    "\n",
    "The tweet with more retweets is: \n",
    "The United States condemns the terror attack in Barcelona, Spain, and will do whatever is necessary to help. Be tough & strong, we love you!\n",
    "Number of retweets: 66099\n",
    "144 characters.\n",
    "\n",
    "This is common, but it won't necessarily happen: the tweet with more likes is the tweet with more retweets. What we're doing is that we find the maximum number of likes from the 'Likes' column and the maximum number of retweets from the 'RTs' using numpy's max function. With this we just look for the index in each of both columns that satisfy to be the maximum. Since more than one could have the same number of likes/retweets (the maximum) we just need to take the first one found, and that's why we use .index[0] to assign the index to the variables favand rt. To print the tweet that satisfies, we access the data in the same way we would access a matrix or any indexed object.\n",
    "\n",
    "We're now ready to plot some stuff. :)\n",
    "\n",
    "## 2.2. Time series\n",
    "\n",
    "Pandas has its own object for time series. Since we have a whole vector with creation dates, we can construct time series respect tweets lengths, likes and retweets.\n",
    "\n",
    "The way we do it is:"
   ]
  },
  {
   "cell_type": "code",
   "execution_count": 13,
   "metadata": {
    "collapsed": true
   },
   "outputs": [],
   "source": [
    "# We create time series for data:\n",
    "\n",
    "tlen = pd.Series(data=data['len'].values, index=data['Date'])\n",
    "tfav = pd.Series(data=data['Likes'].values, index=data['Date'])\n",
    "tret = pd.Series(data=data['RTs'].values, index=data['Date'])"
   ]
  },
  {
   "cell_type": "markdown",
   "metadata": {},
   "source": [
    "And if we want to plot the time series, pandas already has its own method in the object. We can plot a time series as follows:"
   ]
  },
  {
   "cell_type": "code",
   "execution_count": 14,
   "metadata": {},
   "outputs": [
    {
     "data": {
      "image/png": "[encoded data removed]",
      "text/plain": [
       "<matplotlib.figure.Figure at 0x7fd41b2ec710>"
      ]
     },
     "metadata": {},
     "output_type": "display_data"
    }
   ],
   "source": [
    "# Lengths along time:\n",
    "tlen.plot(figsize=(16,4), color='r');"
   ]
  },
  {
   "cell_type": "markdown",
   "metadata": {},
   "source": [
    "And to plot the likes versus the retweets in the same chart:"
   ]
  },
  {
   "cell_type": "code",
   "execution_count": 15,
   "metadata": {},
   "outputs": [
    {
     "data": {
      "image/png": "[encoded data removed]",
      "text/plain": [
       "<matplotlib.figure.Figure at 0x7fd413e4af60>"
      ]
     },
     "metadata": {},
     "output_type": "display_data"
    }
   ],
   "source": [
    "# Likes vs retweets visualization:\n",
    "tfav.plot(figsize=(16,4), label=\"Likes\", legend=True)\n",
    "tret.plot(figsize=(16,4), label=\"Retweets\", legend=True);"
   ]
  },
  {
   "cell_type": "markdown",
   "metadata": {},
   "source": [
    "## 2.3. Pie charts of sources\n",
    "\n",
    "We're almost done with this second section of the post. Now we will plot the sources in a pie chart, since we realized that not every tweet is tweeted from the same source (😱🤔). We first clean all the sources:"
   ]
  },
  {
   "cell_type": "code",
   "execution_count": 16,
   "metadata": {},
   "outputs": [
    {
     "name": "stdout",
     "output_type": "stream",
     "text": [
      "Creation of content sources:\n",
      "* Media Studio\n",
      "* Twitter for iPhone\n",
      "* Twitter for iPad\n",
      "* Twitter Web Client\n"
     ]
    }
   ],
   "source": [
    "# We obtain all possible sources:\n",
    "sources = []\n",
    "for source in data['Source']:\n",
    "    if source not in sources:\n",
    "        sources.append(source)\n",
    "\n",
    "# We print sources list:\n",
    "print(\"Creation of content sources:\")\n",
    "for source in sources:\n",
    "    print(\"* {}\".format(source))"
   ]
  },
  {
   "cell_type": "code",
   "execution_count": 17,
   "metadata": {},
   "outputs": [
    {
     "data": {
      "image/png": "[encoded data removed]",
      "text/plain": [
       "<matplotlib.figure.Figure at 0x7fd413e4aa58>"
      ]
     },
     "metadata": {},
     "output_type": "display_data"
    }
   ],
   "source": [
    "# We create a numpy vector mapped to labels:\n",
    "percent = np.zeros(len(sources))\n",
    "\n",
    "for source in data['Source']:\n",
    "    for index in range(len(sources)):\n",
    "        if source == sources[index]:\n",
    "            percent[index] += 1\n",
    "            pass\n",
    "\n",
    "percent /= 100\n",
    "\n",
    "# Pie chart:\n",
    "pie_chart = pd.Series(percent, index=sources, name='Sources')\n",
    "pie_chart.plot.pie(fontsize=11, autopct='%.2f', figsize=(6, 6));"
   ]
  },
  {
   "cell_type": "markdown",
   "metadata": {},
   "source": [
    "And we can see the percentage of tweets per source.\n",
    "\n",
    "We can now proceed to do sentiment analysis.\n",
    "\n",
    "## 3. Sentiment analysis\n",
    "\n",
    "## 3.1. Importing textblob\n",
    "\n",
    "As we mentioned at the beginning of this post, textblob will allow us to do sentiment analysis in a very simple way. We will also use the re library from Python, which is used to work with regular expressions. For this, I'll provide you two utility functions to: a) clean text (which means that any symbol distinct to an alphanumeric value will be remapped into a new one that satisfies this condition), and b) create a classifier to analyze the polarity of each tweet after cleaning the text in it. I won't explain the specific way in which the function that cleans works, since it would be extended and it might be better understood in the official redocumentation.\n",
    "\n",
    "The code that I'm providing is:"
   ]
  },
  {
   "cell_type": "code",
   "execution_count": 18,
   "metadata": {},
   "outputs": [],
   "source": [
    "from textblob import TextBlob\n",
    "import re\n",
    "\n",
    "def clean_tweet(tweet):\n",
    "    '''\n",
    "    Utility function to clean the text in a tweet by removing \n",
    "    links and special characters using regex.\n",
    "    '''\n",
    "    return ' '.join(re.sub(\"(@[A-Za-z0-9]+)|([^0-9A-Za-z \\t])|(\\w+:\\/\\/\\S+)\", \" \", tweet).split())\n",
    "\n",
    "def analize_sentiment(tweet):\n",
    "    '''\n",
    "    Utility function to classify the polarity of a tweet\n",
    "    using textblob.\n",
    "    '''\n",
    "    analysis = TextBlob(clean_tweet(tweet))\n",
    "    if analysis.sentiment.polarity > 0:\n",
    "        return 1\n",
    "    elif analysis.sentiment.polarity == 0:\n",
    "        return 0\n",
    "    else:\n",
    "        return -1"
   ]
  },
  {
   "cell_type": "markdown",
   "metadata": {},
   "source": [
    "With the following output, we realize that basically this twitter account has two sources:\n",
    "Creation of content sources:\n",
    "* Twitter for iPhone\n",
    "* Media Studio\n",
    "\n",
    "We now count the number of each source and create a pie chart. You'll notice that this code cell is not the most optimized one... Please have in mind that it was 4 in the morning when I was designing this workshop. 😅"
   ]
  },
  {
   "cell_type": "code",
   "execution_count": 19,
   "metadata": {},
   "outputs": [
    {
     "data": {
      "text/html": [
       "<div>\n",
       "<style>\n",
       "    .dataframe thead tr:only-child th {\n",
       "        text-align: right;\n",
       "    }\n",
       "\n",
       "    .dataframe thead th {\n",
       "        text-align: left;\n",
       "    }\n",
       "\n",
       "    .dataframe tbody tr th {\n",
       "        vertical-align: top;\n",
       "    }\n",
       "</style>\n",
       "<table border=\"1\" class=\"dataframe\">\n",
       "  <thead>\n",
       "    <tr style=\"text-align: right;\">\n",
       "      <th></th>\n",
       "      <th>Tweets</th>\n",
       "      <th>len</th>\n",
       "      <th>ID</th>\n",
       "      <th>Date</th>\n",
       "      <th>Source</th>\n",
       "      <th>Likes</th>\n",
       "      <th>RTs</th>\n",
       "      <th>SA</th>\n",
       "    </tr>\n",
       "  </thead>\n",
       "  <tbody>\n",
       "    <tr>\n",
       "      <th>0</th>\n",
       "      <td>We mourn the horrifying terrorist attack in NY...</td>\n",
       "      <td>140</td>\n",
       "      <td>925806343855984647</td>\n",
       "      <td>2017-11-01 19:26:47</td>\n",
       "      <td>Media Studio</td>\n",
       "      <td>11068</td>\n",
       "      <td>2836</td>\n",
       "      <td>-1</td>\n",
       "    </tr>\n",
       "    <tr>\n",
       "      <th>1</th>\n",
       "      <td>....for the Middle Class. The House and Senate...</td>\n",
       "      <td>140</td>\n",
       "      <td>925740081805217792</td>\n",
       "      <td>2017-11-01 15:03:29</td>\n",
       "      <td>Twitter for iPhone</td>\n",
       "      <td>34181</td>\n",
       "      <td>7528</td>\n",
       "      <td>0</td>\n",
       "    </tr>\n",
       "    <tr>\n",
       "      <th>2</th>\n",
       "      <td>Wouldn't it be great to Repeal the very unfair...</td>\n",
       "      <td>140</td>\n",
       "      <td>925739132579729420</td>\n",
       "      <td>2017-11-01 14:59:43</td>\n",
       "      <td>Twitter for iPhone</td>\n",
       "      <td>48534</td>\n",
       "      <td>10707</td>\n",
       "      <td>1</td>\n",
       "    </tr>\n",
       "    <tr>\n",
       "      <th>3</th>\n",
       "      <td>#NYCStrong #USA🇺🇸 https://t.co/6K3Xw5P87d</td>\n",
       "      <td>41</td>\n",
       "      <td>925716689064427520</td>\n",
       "      <td>2017-11-01 13:30:32</td>\n",
       "      <td>Twitter for iPad</td>\n",
       "      <td>26747</td>\n",
       "      <td>6449</td>\n",
       "      <td>0</td>\n",
       "    </tr>\n",
       "    <tr>\n",
       "      <th>4</th>\n",
       "      <td>\"Senator Chuck Schumer helping to import Europ...</td>\n",
       "      <td>126</td>\n",
       "      <td>925688931823300609</td>\n",
       "      <td>2017-11-01 11:40:14</td>\n",
       "      <td>Twitter for iPhone</td>\n",
       "      <td>55469</td>\n",
       "      <td>15817</td>\n",
       "      <td>0</td>\n",
       "    </tr>\n",
       "    <tr>\n",
       "      <th>5</th>\n",
       "      <td>We are fighting hard for Merit Based immigrati...</td>\n",
       "      <td>139</td>\n",
       "      <td>925686558304464897</td>\n",
       "      <td>2017-11-01 11:30:48</td>\n",
       "      <td>Twitter for iPhone</td>\n",
       "      <td>74328</td>\n",
       "      <td>19781</td>\n",
       "      <td>-1</td>\n",
       "    </tr>\n",
       "    <tr>\n",
       "      <th>6</th>\n",
       "      <td>The terrorist came into our country through wh...</td>\n",
       "      <td>140</td>\n",
       "      <td>925684982307348480</td>\n",
       "      <td>2017-11-01 11:24:32</td>\n",
       "      <td>Twitter for iPhone</td>\n",
       "      <td>99148</td>\n",
       "      <td>29710</td>\n",
       "      <td>0</td>\n",
       "    </tr>\n",
       "    <tr>\n",
       "      <th>7</th>\n",
       "      <td>I have just ordered Homeland Security to step ...</td>\n",
       "      <td>138</td>\n",
       "      <td>925534445393928199</td>\n",
       "      <td>2017-11-01 01:26:22</td>\n",
       "      <td>Twitter for iPhone</td>\n",
       "      <td>129585</td>\n",
       "      <td>33833</td>\n",
       "      <td>1</td>\n",
       "    </tr>\n",
       "    <tr>\n",
       "      <th>8</th>\n",
       "      <td>The Republican House members are working hard ...</td>\n",
       "      <td>140</td>\n",
       "      <td>925533433597775873</td>\n",
       "      <td>2017-11-01 01:22:20</td>\n",
       "      <td>Twitter for iPhone</td>\n",
       "      <td>60441</td>\n",
       "      <td>12277</td>\n",
       "      <td>-1</td>\n",
       "    </tr>\n",
       "    <tr>\n",
       "      <th>9</th>\n",
       "      <td>My thoughts, condolences and prayers to the vi...</td>\n",
       "      <td>138</td>\n",
       "      <td>925497025386500096</td>\n",
       "      <td>2017-10-31 22:57:40</td>\n",
       "      <td>Twitter for iPhone</td>\n",
       "      <td>104518</td>\n",
       "      <td>24968</td>\n",
       "      <td>1</td>\n",
       "    </tr>\n",
       "  </tbody>\n",
       "</table>\n",
       "</div>"
      ],
      "text/plain": [
       "                                              Tweets  len                  ID  \\\n",
       "0  We mourn the horrifying terrorist attack in NY...  140  925806343855984647   \n",
       "1  ....for the Middle Class. The House and Senate...  140  925740081805217792   \n",
       "2  Wouldn't it be great to Repeal the very unfair...  140  925739132579729420   \n",
       "3          #NYCStrong #USA🇺🇸 https://t.co/6K3Xw5P87d   41  925716689064427520   \n",
       "4  \"Senator Chuck Schumer helping to import Europ...  126  925688931823300609   \n",
       "5  We are fighting hard for Merit Based immigrati...  139  925686558304464897   \n",
       "6  The terrorist came into our country through wh...  140  925684982307348480   \n",
       "7  I have just ordered Homeland Security to step ...  138  925534445393928199   \n",
       "8  The Republican House members are working hard ...  140  925533433597775873   \n",
       "9  My thoughts, condolences and prayers to the vi...  138  925497025386500096   \n",
       "\n",
       "                 Date              Source   Likes    RTs  SA  \n",
       "0 2017-11-01 19:26:47        Media Studio   11068   2836  -1  \n",
       "1 2017-11-01 15:03:29  Twitter for iPhone   34181   7528   0  \n",
       "2 2017-11-01 14:59:43  Twitter for iPhone   48534  10707   1  \n",
       "3 2017-11-01 13:30:32    Twitter for iPad   26747   6449   0  \n",
       "4 2017-11-01 11:40:14  Twitter for iPhone   55469  15817   0  \n",
       "5 2017-11-01 11:30:48  Twitter for iPhone   74328  19781  -1  \n",
       "6 2017-11-01 11:24:32  Twitter for iPhone   99148  29710   0  \n",
       "7 2017-11-01 01:26:22  Twitter for iPhone  129585  33833   1  \n",
       "8 2017-11-01 01:22:20  Twitter for iPhone   60441  12277  -1  \n",
       "9 2017-10-31 22:57:40  Twitter for iPhone  104518  24968   1  "
      ]
     },
     "metadata": {},
     "output_type": "display_data"
    }
   ],
   "source": [
    "# We create a column with the result of the analysis:\n",
    "data['SA'] = np.array([ analize_sentiment(tweet) for tweet in data['Tweets'] ])\n",
    "\n",
    "# We display the updated dataframe with the new column:\n",
    "display(data.head(10))"
   ]
  },
  {
   "cell_type": "markdown",
   "metadata": {},
   "source": [
    "The way it works is that textblob already provides a trained analyzer (cool, right?). Textblob can work with different machine learning models used in natural language processing. If you want to train your own classifier (or at least check how it works) feel free to check the following link. It might result relevant since we're working with a pre-trained model (for which we don't not the data that was used).\n",
    "\n",
    "Anyway, getting back to the code we will just add an extra column to our data. This column will contain the sentiment analysis and we can plot the dataframe to see the update:"
   ]
  },
  {
   "cell_type": "markdown",
   "metadata": {},
   "source": [
    "As we can see, the last column contains the sentiment analysis (SA). We now just need to check the results.\n",
    "\n",
    "3.2. Analyzing the results\n",
    "\n",
    "To have a simple way to verify the results, we will count the number of neutral, positive and negative tweets and extract the percentages."
   ]
  },
  {
   "cell_type": "code",
   "execution_count": 20,
   "metadata": {
    "collapsed": true
   },
   "outputs": [],
   "source": [
    "# We construct lists with classified tweets:\n",
    "\n",
    "pos_tweets = [ tweet for index, tweet in enumerate(data['Tweets']) if data['SA'][index] > 0]\n",
    "neu_tweets = [ tweet for index, tweet in enumerate(data['Tweets']) if data['SA'][index] == 0]\n",
    "neg_tweets = [ tweet for index, tweet in enumerate(data['Tweets']) if data['SA'][index] < 0]"
   ]
  },
  {
   "cell_type": "markdown",
   "metadata": {},
   "source": [
    "Now that we have the lists, we just print the percentages:"
   ]
  },
  {
   "cell_type": "code",
   "execution_count": 21,
   "metadata": {},
   "outputs": [
    {
     "name": "stdout",
     "output_type": "stream",
     "text": [
      "Percentage of positive tweets: 50.5%\n",
      "Percentage of neutral tweets: 27.0%\n",
      "Percentage of negative tweets: 22.5%\n"
     ]
    }
   ],
   "source": [
    "# We print percentages:\n",
    "\n",
    "print(\"Percentage of positive tweets: {}%\".format(len(pos_tweets)*100/len(data['Tweets'])))\n",
    "print(\"Percentage of neutral tweets: {}%\".format(len(neu_tweets)*100/len(data['Tweets'])))\n",
    "print(\"Percentage of negative tweets: {}%\".format(len(neg_tweets)*100/len(data['Tweets'])))"
   ]
  },
  {
   "cell_type": "markdown",
   "metadata": {},
   "source": [
    "Obtaining the following result:\n",
    "Percentage of positive tweets: 51.0%\n",
    "Percentage of neutral tweets: 27.0%\n",
    "Percentage de negative tweets: 22.0%\n",
    "\n",
    "We have to consider that we're working only with the 200 most recent tweets from D. Trump (last updated: September 2nd.). For more accurate results we can consider more tweets. An interesting thing (an invitation to the readers) is to analyze the polarity of the tweets from different sources, it might be deterministic that by only considering the tweets from one source the polarity would result more positive/negative. Anyway, I hope this resulted interesting.\n",
    "\n",
    "As we saw, we can extract, manipulate, visualize and analyze data in a very simple way with Python. I hope that this leaves some uncertainty in the reader, for further exploration using this tools.\n",
    "\n",
    "It might be possible to find little mistakes in the translation of the material (I designed the workshop in Spanish, originally 😅). Please feel free to comment or suggest all that comes up to your mind. That would complement some ideas that I already have in mind for further work. 😀\n",
    "\n",
    "I'll now leave some references for documentation and tutorials on the used libraries. Hope to hear from you!\n",
    "\n",
    "References:\n",
    "\n",
    "Official documentation - Tweepy.\n",
    "\n",
    "Official documentation - NumPy.\n",
    "\n",
    "Official tutorial - NumPy.\n",
    "\n",
    "Official tutorial - Pandas.\n",
    "\n",
    "Official documentation - Pandas.\n",
    "\n",
    "Official documentation - Matplotlib.\n",
    "\n",
    "Official tutorial - Pyplot.\n",
    "\n",
    "Official website - Seaborn.\n",
    "\n",
    "Official documentation - TextBlob.\n",
    "\n",
    "Tutorial: Building a Text Classification System - TextBlob.\n"
   ]
  }
 ],
 "metadata": {
  "kernelspec": {
   "display_name": "Python 3",
   "language": "python",
   "name": "python3"
  },
  "language_info": {
   "codemirror_mode": {
    "name": "ipython",
    "version": 3
   },
   "file_extension": ".py",
   "mimetype": "text/x-python",
   "name": "python",
   "nbconvert_exporter": "python",
   "pygments_lexer": "ipython3",
   "version": "3.6.3"
  }
 },
 "nbformat": 4,
 "nbformat_minor": 2
}
